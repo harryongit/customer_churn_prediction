{
 "cells": [
  {
   "cell_type": "markdown",
   "metadata": {},
   "source": [
    "# Customer Churn Analysis - Exploratory Data Analysis\n",
    "\n",
    "This notebook explores the customer churn dataset to identify patterns and insights that can help predict customer churn."
   ]
  },
  {
   "cell_type": "code",
   "execution_count": null,
   "metadata": {},
   "source": [
    "import pandas as pd\n",
    "import numpy as np\n",
    "import matplotlib.pyplot as plt\n",
    "import seaborn as sns\n",
    "\n",
    "# Set style for all plots\n",
    "plt.style.use('seaborn')\n",
    "sns.set_palette('Set2')"
   ]
  },
  {
   "cell_type": "code",
   "execution_count": null,
   "metadata": {},
   "source": [
    "# Load the dataset\n",
    "df = pd.read_csv('../data/customer_data.csv')\n",
    "print(f\"Dataset shape: {df.shape}\")\n",
    "df.head()"
   ]
  },
  {
   "cell_type": "markdown",
   "metadata": {},
   "source": [
    "## 1. Data Overview"
   ]
  },
  {
   "cell_type": "code",
   "execution_count": null,
   "metadata": {},
   "source": [
    "# Basic statistics\n",
    "print(\"\\nBasic Statistics:\")\n",
    "df.describe()\n",
    "\n",
    "# Missing values\n",
    "print(\"\\nMissing Values:\")\n",
    "df.isnull().sum()"
   ]
  },
  {
   "cell_type": "markdown",
   "metadata": {},
   "source": [
    "## 2. Customer Demographics Analysis"
   ]
  },
  {
   "cell_type": "code",
   "execution_count": null,
   "metadata": {},
   "source": [
    "# Gender distribution\n",
    "plt.figure(figsize=(10, 6))\n",
    "sns.countplot(data=df, x='gender', hue='churn')\n",
    "plt.title('Churn Distribution by Gender')\n",
    "plt.show()\n",
    "\n",
    "# Age distribution\n",
    "plt.figure(figsize=(10, 6))\n",
    "sns.histplot(data=df, x='age', hue='churn', bins=30)\n",
    "plt.title('Age Distribution by Churn Status')\n",
    "plt.show()"
   ]
  },
  {
   "cell_type": "markdown",
   "metadata": {},
   "source": [
    "## 3. Service Usage Analysis"
   ]
  },
  {
   "cell_type": "code",
   "execution_count": null,
   "metadata": {},
   "source": [
    "# Contract type analysis\n",
    "plt.figure(figsize=(10, 6))\n",
    "contract_churn = df.groupby('contract_type')['churn'].mean()\n",
    "contract_churn.plot(kind='bar')\n",
    "plt.title('Churn Rate by Contract Type')\n",
    "plt.ylabel('Churn Rate')\n",
    "plt.show()"
   ]
  },
  {
   "cell_type": "markdown",
   "metadata": {},
   "source": [
    "## 4. Financial Analysis"
   ]
  },
  {
   "cell_type": "code",
   "execution_count": null,
   "metadata": {},
   "source": [
    "# Monthly charges vs churn\n",
    "plt.figure(figsize=(10, 6))\n",
    "sns.boxplot(data=df, x='churn', y='monthly_charges')\n",
    "plt.title('Monthly Charges Distribution by Churn Status')\n",
    "plt.show()\n",
    "\n",
    "# Correlation analysis\n",
    "numeric_cols = ['age', 'tenure', 'monthly_charges', 'total_charges']\n",
    "correlation = df[numeric_cols + ['churn']].corr()\n",
    "plt.figure(figsize=(10, 8))\n",
    "sns.heatmap(correlation, annot=True, cmap='coolwarm')\n",
    "plt.title('Correlation Matrix')\n",
    "plt.show()"
   ]
  },
  {
   "cell_type": "markdown",
   "metadata": {},
   "source": [
    "## 5. Key Findings\n",
    "\n",
    "1. Contract Type Impact:\n",
    "   - Month-to-month contracts have higher churn rates\n",
    "   - Long-term contracts show better retention\n",
    "\n",
    "2. Service Usage:\n",
    "   - Fiber optic customers show mixed retention\n",
    "   - Phone service appears to have minimal impact\n",
    "\n",
    "3. Financial Patterns:\n",
    "   - Higher monthly charges correlate with increased churn\n",
    "   - Longer tenure correlates with lower churn\n",
    "\n",
    "4. Demographics:\n",
    "   - Age shows moderate correlation with churn\n",
    "   - Gender has minimal impact on churn rates"
   ]
  }
 ],
 "metadata": {
  "kernelspec": {
   "display_name": "Python 3",
   "language": "python3"
  }
 }
}
